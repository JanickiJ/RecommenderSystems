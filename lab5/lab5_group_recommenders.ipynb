{
 "cells": [
  {
   "cell_type": "markdown",
   "metadata": {},
   "source": [
    "# Laboratorium 5 - rekomendacje grupowe\n",
    "\n",
    "## Przygotowanie\n",
    "\n",
    " * pobierz i wypakuj dataset: https://files.grouplens.org/datasets/movielens/ml-latest-small.zip\n",
    "   * więcej możesz poczytać tutaj: https://grouplens.org/datasets/movielens/\n",
    " * [opcjonalnie] Utwórz wirtualne środowisko\n",
    " `python3 -m venv ./recsyslab5`\n",
    " * zainstaluj potrzebne biblioteki:\n",
    " `pip install numpy pandas matplotlib`"
   ]
  },
  {
   "cell_type": "markdown",
   "metadata": {},
   "source": [
    "## Część 1. - przygotowanie danych"
   ]
  },
  {
   "cell_type": "code",
   "execution_count": 1,
   "metadata": {},
   "outputs": [],
   "source": [
    "# importujemy wszystkie potrzebne pakiety\n",
    "from tabulate import tabulate\n",
    "import math\n",
    "import numpy as np\n",
    "import pandas\n",
    "\n",
    "from random import choice, sample\n",
    "from statistics import mean, stdev\n",
    "\n",
    "from reco_utils import *"
   ]
  },
  {
   "cell_type": "code",
   "execution_count": 2,
   "metadata": {},
   "outputs": [
    {
     "name": "stdout",
     "output_type": "stream",
     "text": [
      "215575.2462699197\n",
      "208804.9560670217\n",
      "202498.51798099163\n",
      "196610.63134484066\n",
      "191101.51644274403\n",
      "185936.11967165925\n",
      "181083.4510345969\n",
      "176516.02881615108\n",
      "172209.41166448637\n",
      "168141.8024090963\n",
      "164293.71110586412\n"
     ]
    },
    {
     "data": {
      "text/plain": "     1       2       3       4       5       6       7       8       9       \\\n1        10       6       2       9       4       3      10       4      10   \n2        10      10       7       0       9       5      10       4      10   \n3         3       4      10       0      10       0       2       9      10   \n4        10       4       0      10       4       5       5       3       0   \n5         9       0       3       5       0       6       4       4       5   \n..      ...     ...     ...     ...     ...     ...     ...     ...     ...   \n606       9       4       5       5       0       9      10       1       6   \n607       7      10       0       5       6       0       6       9      10   \n608       4      10      10       2      10       8       1       9       6   \n609      10       0       2       0       0      10       4       0       0   \n610      10       2       7       7       1      10       7       8       0   \n\n     10      ...  193565  193567  193571  193573  193579  193581  193583  \\\n1         6  ...       2      10       0      10       6      10       9   \n2         3  ...      10      10      10      10       7       5       6   \n3         6  ...       5       0       1       0       0       7       8   \n4         0  ...      10       8       3      10      10       0       0   \n5         5  ...       4       4      10       2      10       9      10   \n..      ...  ...     ...     ...     ...     ...     ...     ...     ...   \n606       3  ...       0       6       6      10       9       5       4   \n607      10  ...       4       7       0       5       4       6       9   \n608       3  ...      10       9       6       4       0       9      10   \n609       0  ...       2      10       6      10      10       9       9   \n610       5  ...      10      10       8       1       4       3       5   \n\n     193585  193587  193609  \n1         5       7       5  \n2         4      10       7  \n3         3       3       0  \n4         0       8       9  \n5         6      10       0  \n..      ...     ...     ...  \n606      10       7       9  \n607       8       0       5  \n608       3       1       5  \n609       6      10       2  \n610       3       5       4  \n\n[610 rows x 9724 columns]",
      "text/html": "<div>\n<style scoped>\n    .dataframe tbody tr th:only-of-type {\n        vertical-align: middle;\n    }\n\n    .dataframe tbody tr th {\n        vertical-align: top;\n    }\n\n    .dataframe thead th {\n        text-align: right;\n    }\n</style>\n<table border=\"1\" class=\"dataframe\">\n  <thead>\n    <tr style=\"text-align: right;\">\n      <th></th>\n      <th>1</th>\n      <th>2</th>\n      <th>3</th>\n      <th>4</th>\n      <th>5</th>\n      <th>6</th>\n      <th>7</th>\n      <th>8</th>\n      <th>9</th>\n      <th>10</th>\n      <th>...</th>\n      <th>193565</th>\n      <th>193567</th>\n      <th>193571</th>\n      <th>193573</th>\n      <th>193579</th>\n      <th>193581</th>\n      <th>193583</th>\n      <th>193585</th>\n      <th>193587</th>\n      <th>193609</th>\n    </tr>\n  </thead>\n  <tbody>\n    <tr>\n      <th>1</th>\n      <td>10</td>\n      <td>6</td>\n      <td>2</td>\n      <td>9</td>\n      <td>4</td>\n      <td>3</td>\n      <td>10</td>\n      <td>4</td>\n      <td>10</td>\n      <td>6</td>\n      <td>...</td>\n      <td>2</td>\n      <td>10</td>\n      <td>0</td>\n      <td>10</td>\n      <td>6</td>\n      <td>10</td>\n      <td>9</td>\n      <td>5</td>\n      <td>7</td>\n      <td>5</td>\n    </tr>\n    <tr>\n      <th>2</th>\n      <td>10</td>\n      <td>10</td>\n      <td>7</td>\n      <td>0</td>\n      <td>9</td>\n      <td>5</td>\n      <td>10</td>\n      <td>4</td>\n      <td>10</td>\n      <td>3</td>\n      <td>...</td>\n      <td>10</td>\n      <td>10</td>\n      <td>10</td>\n      <td>10</td>\n      <td>7</td>\n      <td>5</td>\n      <td>6</td>\n      <td>4</td>\n      <td>10</td>\n      <td>7</td>\n    </tr>\n    <tr>\n      <th>3</th>\n      <td>3</td>\n      <td>4</td>\n      <td>10</td>\n      <td>0</td>\n      <td>10</td>\n      <td>0</td>\n      <td>2</td>\n      <td>9</td>\n      <td>10</td>\n      <td>6</td>\n      <td>...</td>\n      <td>5</td>\n      <td>0</td>\n      <td>1</td>\n      <td>0</td>\n      <td>0</td>\n      <td>7</td>\n      <td>8</td>\n      <td>3</td>\n      <td>3</td>\n      <td>0</td>\n    </tr>\n    <tr>\n      <th>4</th>\n      <td>10</td>\n      <td>4</td>\n      <td>0</td>\n      <td>10</td>\n      <td>4</td>\n      <td>5</td>\n      <td>5</td>\n      <td>3</td>\n      <td>0</td>\n      <td>0</td>\n      <td>...</td>\n      <td>10</td>\n      <td>8</td>\n      <td>3</td>\n      <td>10</td>\n      <td>10</td>\n      <td>0</td>\n      <td>0</td>\n      <td>0</td>\n      <td>8</td>\n      <td>9</td>\n    </tr>\n    <tr>\n      <th>5</th>\n      <td>9</td>\n      <td>0</td>\n      <td>3</td>\n      <td>5</td>\n      <td>0</td>\n      <td>6</td>\n      <td>4</td>\n      <td>4</td>\n      <td>5</td>\n      <td>5</td>\n      <td>...</td>\n      <td>4</td>\n      <td>4</td>\n      <td>10</td>\n      <td>2</td>\n      <td>10</td>\n      <td>9</td>\n      <td>10</td>\n      <td>6</td>\n      <td>10</td>\n      <td>0</td>\n    </tr>\n    <tr>\n      <th>...</th>\n      <td>...</td>\n      <td>...</td>\n      <td>...</td>\n      <td>...</td>\n      <td>...</td>\n      <td>...</td>\n      <td>...</td>\n      <td>...</td>\n      <td>...</td>\n      <td>...</td>\n      <td>...</td>\n      <td>...</td>\n      <td>...</td>\n      <td>...</td>\n      <td>...</td>\n      <td>...</td>\n      <td>...</td>\n      <td>...</td>\n      <td>...</td>\n      <td>...</td>\n      <td>...</td>\n    </tr>\n    <tr>\n      <th>606</th>\n      <td>9</td>\n      <td>4</td>\n      <td>5</td>\n      <td>5</td>\n      <td>0</td>\n      <td>9</td>\n      <td>10</td>\n      <td>1</td>\n      <td>6</td>\n      <td>3</td>\n      <td>...</td>\n      <td>0</td>\n      <td>6</td>\n      <td>6</td>\n      <td>10</td>\n      <td>9</td>\n      <td>5</td>\n      <td>4</td>\n      <td>10</td>\n      <td>7</td>\n      <td>9</td>\n    </tr>\n    <tr>\n      <th>607</th>\n      <td>7</td>\n      <td>10</td>\n      <td>0</td>\n      <td>5</td>\n      <td>6</td>\n      <td>0</td>\n      <td>6</td>\n      <td>9</td>\n      <td>10</td>\n      <td>10</td>\n      <td>...</td>\n      <td>4</td>\n      <td>7</td>\n      <td>0</td>\n      <td>5</td>\n      <td>4</td>\n      <td>6</td>\n      <td>9</td>\n      <td>8</td>\n      <td>0</td>\n      <td>5</td>\n    </tr>\n    <tr>\n      <th>608</th>\n      <td>4</td>\n      <td>10</td>\n      <td>10</td>\n      <td>2</td>\n      <td>10</td>\n      <td>8</td>\n      <td>1</td>\n      <td>9</td>\n      <td>6</td>\n      <td>3</td>\n      <td>...</td>\n      <td>10</td>\n      <td>9</td>\n      <td>6</td>\n      <td>4</td>\n      <td>0</td>\n      <td>9</td>\n      <td>10</td>\n      <td>3</td>\n      <td>1</td>\n      <td>5</td>\n    </tr>\n    <tr>\n      <th>609</th>\n      <td>10</td>\n      <td>0</td>\n      <td>2</td>\n      <td>0</td>\n      <td>0</td>\n      <td>10</td>\n      <td>4</td>\n      <td>0</td>\n      <td>0</td>\n      <td>0</td>\n      <td>...</td>\n      <td>2</td>\n      <td>10</td>\n      <td>6</td>\n      <td>10</td>\n      <td>10</td>\n      <td>9</td>\n      <td>9</td>\n      <td>6</td>\n      <td>10</td>\n      <td>2</td>\n    </tr>\n    <tr>\n      <th>610</th>\n      <td>10</td>\n      <td>2</td>\n      <td>7</td>\n      <td>7</td>\n      <td>1</td>\n      <td>10</td>\n      <td>7</td>\n      <td>8</td>\n      <td>0</td>\n      <td>5</td>\n      <td>...</td>\n      <td>10</td>\n      <td>10</td>\n      <td>8</td>\n      <td>1</td>\n      <td>4</td>\n      <td>3</td>\n      <td>5</td>\n      <td>3</td>\n      <td>5</td>\n      <td>4</td>\n    </tr>\n  </tbody>\n</table>\n<p>610 rows × 9724 columns</p>\n</div>"
     },
     "execution_count": 2,
     "metadata": {},
     "output_type": "execute_result"
    }
   ],
   "source": [
    "# wczytujemy oceny uytkownikow i obliczamy (za pomocą collaborative filtering) wszystkie przewidywane oceny filmow\n",
    "\n",
    "raw_ratings = pandas.read_csv('../ml-latest-small/ratings.csv').drop(columns=['timestamp'])\n",
    "movies = list(raw_ratings['movieId'].unique())\n",
    "users = list(raw_ratings['userId'].unique())\n",
    "ratings = get_predicted_ratings(raw_ratings, max_iterations=10)\n",
    "ratings"
   ]
  },
  {
   "cell_type": "code",
   "execution_count": 3,
   "outputs": [
    {
     "data": {
      "text/plain": "[1,\n 3,\n 6,\n 47,\n 50,\n 70,\n 101,\n 110,\n 151,\n 157,\n 163,\n 216,\n 223,\n 231,\n 235,\n 260,\n 296,\n 316,\n 333,\n 349,\n 356,\n 362,\n 367,\n 423,\n 441,\n 457,\n 480,\n 500,\n 527,\n 543,\n 552,\n 553,\n 590,\n 592,\n 593,\n 596,\n 608,\n 648,\n 661,\n 673,\n 733,\n 736,\n 780,\n 804,\n 919,\n 923,\n 940,\n 943,\n 954,\n 1009,\n 1023,\n 1024,\n 1025,\n 1029,\n 1030,\n 1031,\n 1032,\n 1042,\n 1049,\n 1060,\n 1073,\n 1080,\n 1089,\n 1090,\n 1092,\n 1097,\n 1127,\n 1136,\n 1196,\n 1197,\n 1198,\n 1206,\n 1208,\n 1210,\n 1213,\n 1214,\n 1219,\n 1220,\n 1222,\n 1224,\n 1226,\n 1240,\n 1256,\n 1258,\n 1265,\n 1270,\n 1275,\n 1278,\n 1282,\n 1291,\n 1298,\n 1348,\n 1377,\n 1396,\n 1408,\n 1445,\n 1473,\n 1500,\n 1517,\n 1552,\n 1573,\n 1580,\n 1587,\n 1617,\n 1620,\n 1625,\n 1644,\n 1676,\n 1732,\n 1777,\n 1793,\n 1804,\n 1805,\n 1920,\n 1927,\n 1954,\n 1967,\n 2000,\n 2005,\n 2012,\n 2018,\n 2028,\n 2033,\n 2046,\n 2048,\n 2054,\n 2058,\n 2078,\n 2090,\n 2093,\n 2094,\n 2096,\n 2099,\n 2105,\n 2115,\n 2116,\n 2137,\n 2139,\n 2141,\n 2143,\n 2161,\n 2174,\n 2193,\n 2253,\n 2268,\n 2273,\n 2291,\n 2329,\n 2338,\n 2353,\n 2366,\n 2387,\n 2389,\n 2395,\n 2406,\n 2414,\n 2427,\n 2450,\n 2459,\n 2470,\n 2478,\n 2492,\n 2502,\n 2528,\n 2529,\n 2542,\n 2571,\n 2580,\n 2596,\n 2616,\n 2617,\n 2628,\n 2640,\n 2641,\n 2644,\n 2648,\n 2654,\n 2657,\n 2692,\n 2700,\n 2716,\n 2761,\n 2797,\n 2826,\n 2858,\n 2872,\n 2899,\n 2916,\n 2944,\n 2947,\n 2948,\n 2949,\n 2959,\n 2985,\n 2987,\n 2991,\n 2993,\n 2997,\n 3033,\n 3034,\n 3052,\n 3053,\n 3062,\n 3147,\n 3168,\n 3176,\n 3243,\n 3247,\n 3253,\n 3273,\n 3386,\n 3439,\n 3440,\n 3441,\n 3448,\n 3450,\n 3479,\n 3489,\n 3527,\n 3578,\n 3617,\n 3639,\n 3671,\n 3702,\n 3703,\n 3729,\n 3740,\n 3744,\n 3793,\n 3809,\n 4006,\n 5060,\n 318,\n 1704,\n 6874,\n 8798,\n 46970,\n 48516,\n 58559,\n 60756,\n 68157,\n 71535,\n 74458,\n 77455,\n 79132,\n 80489,\n 80906,\n 86345,\n 89774,\n 91529,\n 91658,\n 99114,\n 106782,\n 109487,\n 112552,\n 114060,\n 115713,\n 122882,\n 131724,\n 31,\n 647,\n 688,\n 720,\n 849,\n 914,\n 1093,\n 1124,\n 1263,\n 1272,\n 1302,\n 1371,\n 2080,\n 2288,\n 2424,\n 2851,\n 3024,\n 3210,\n 3949,\n 4518,\n 5048,\n 5181,\n 5746,\n 5764,\n 5919,\n 6238,\n 6835,\n 7899,\n 7991,\n 26409,\n 70946,\n 72378,\n 21,\n 32,\n 45,\n 52,\n 58,\n 106,\n 125,\n 126,\n 162,\n 171,\n 176,\n 190,\n 215,\n 222,\n 232,\n 247,\n 265,\n 319,\n 342,\n 345,\n 348,\n 351,\n 357,\n 368,\n 417,\n 450,\n 475,\n 492,\n 509,\n 538,\n 539,\n 588,\n 595,\n 599,\n 708,\n 759,\n 800,\n 892,\n 898,\n 899,\n 902,\n 904,\n 908,\n 910,\n 912,\n 920,\n 930,\n 937,\n 1046,\n 1057,\n 1077,\n 1079,\n 1084,\n 1086,\n 1094,\n 1103,\n 1179,\n 1183,\n 1188,\n 1199,\n 1203,\n 1211,\n 1225,\n 1250,\n 1259,\n 1266,\n 1279,\n 1283,\n 1288,\n 1304,\n 1391,\n 1449,\n 1466,\n 1597,\n 1641,\n 1719,\n 1733,\n 1734,\n 1834,\n 1860,\n 1883,\n 1885,\n 1892,\n 1895,\n 1907,\n 1914,\n 1916,\n 1923,\n 1947,\n 1966,\n 1968,\n 2019,\n 2076,\n 2109,\n 2145,\n 2150,\n 2186,\n 2203,\n 2204,\n 2282,\n 2324,\n 2336,\n 2351,\n 2359,\n 2390,\n 2467,\n 2583,\n 2599,\n 2683,\n 2712,\n 2762,\n 2763,\n 2770,\n 2791,\n 2843,\n 2874,\n 2921,\n 2926,\n 2973,\n 3044,\n 3060,\n 3079,\n 3083,\n 3160,\n 3175,\n 3204,\n 3255,\n 3317,\n 3358,\n 3365,\n 3408,\n 3481,\n 3508,\n 3538,\n 3591,\n 3788,\n 3851,\n 3897,\n 3911,\n 3967,\n 3996,\n 4002,\n 4014,\n 4020,\n 4021,\n 4027,\n 4029,\n 4033,\n 4034,\n 4074,\n 4121,\n 4144,\n 4166,\n 4226,\n 4239,\n 4246,\n 4252,\n 4260,\n 4273,\n 4308,\n 4347,\n 4381,\n 4641,\n 4741,\n 4765,\n 4881,\n 4896,\n 4902,\n 4967,\n 34,\n 36,\n 39,\n 150,\n 153,\n 253,\n 261,\n 266,\n 290,\n 300,\n 344,\n 364,\n 380,\n 410,\n 474,\n 515,\n 531,\n 534,\n 589,\n 594,\n 597,\n 2,\n 4,\n 5,\n 7,\n 8,\n 10,\n 11,\n 13,\n 15,\n 16,\n 17,\n 19,\n 22,\n 24,\n 25,\n 26,\n 27,\n 41,\n 43,\n 46,\n 54,\n 60,\n 61,\n 62,\n 65,\n 66,\n 76,\n 79,\n 86,\n 87,\n 88,\n 89,\n 92,\n 93,\n 95,\n 100,\n 102,\n 104,\n 105,\n 112,\n 113,\n 135,\n 140,\n 141,\n 145,\n 146,\n 158,\n 159,\n 160,\n 161,\n 165,\n 168,\n 170,\n 174,\n 177,\n 179,\n 180,\n 181,\n 185,\n 186,\n 189,\n 191,\n 195,\n 196,\n 201,\n 204,\n 205,\n 207,\n 208,\n 209,\n 210,\n 212,\n 217,\n 218,\n 219,\n 224,\n 225,\n 230,\n 234,\n 236,\n 237,\n 239,\n 240,\n 243,\n 248,\n 250,\n 251,\n 252,\n 254,\n 256,\n 257,\n 258,\n 262,\n 267,\n 270,\n 271,\n 273,\n 274,\n 276,\n 277,\n 279,\n 281,\n 282,\n 288,\n 289,\n 291,\n 292,\n 293,\n 302,\n 303,\n 304,\n 310,\n 312,\n 313,\n 314,\n 315,\n 317,\n 327,\n 329,\n 330,\n 332,\n 336,\n 337,\n 339,\n 340,\n 343,\n 347,\n 350,\n 352,\n 353,\n 354,\n 355,\n 358,\n 359,\n 360,\n 361,\n 366,\n 370,\n 371,\n 374,\n 377,\n 378,\n 381,\n 382,\n 383,\n 405,\n 412,\n 415,\n 416,\n 419,\n 426,\n 432,\n 434,\n 435,\n 437,\n 440,\n 445,\n 454,\n 455,\n 458,\n 460,\n 466,\n 468,\n 469,\n 472,\n 477,\n 485,\n 489,\n 490,\n 491,\n 493,\n 494,\n 497,\n 502,\n 505,\n 508,\n 510,\n 516,\n 520,\n 524,\n 532,\n 536,\n 537,\n 540,\n 542,\n 546,\n 548,\n 569,\n 575,\n 587,\n 606,\n 609,\n 616,\n 628,\n 631,\n 637,\n 640,\n 662,\n 667,\n 694,\n 697,\n 700,\n 704,\n 709,\n 710,\n 711,\n 719,\n 747,\n 762,\n 765,\n 775,\n 783,\n 795,\n 799,\n 801,\n 802,\n 818,\n 830,\n 835,\n 837,\n 838,\n 839,\n 842,\n 848,\n 852,\n 867,\n 880,\n 881,\n 888,\n 891,\n 979,\n 981,\n 986,\n 991,\n 996,\n 999,\n 1004,\n 1006,\n 1061,\n 1064,\n 1082,\n 750,\n 924,\n 1101,\n 1246,\n 1584,\n 1610,\n 1682,\n 1784,\n 1917,\n 2671,\n 2688,\n 2701,\n 2717,\n 3114,\n 3354,\n 3623,\n 3869,\n 3916,\n 3977,\n 3994,\n 4018,\n 4223,\n 4306,\n 4310,\n 4370,\n 4643,\n 4700,\n 4844,\n 4874,\n 4886,\n 4963,\n 4993,\n 4995,\n 5218,\n 5349,\n 5378,\n 5445,\n 5459,\n 5464,\n 5502,\n 5618,\n 5816,\n 5952,\n 5989,\n 5991,\n 6333,\n 6365,\n 6534,\n 6539,\n 6863,\n 6934,\n 7143,\n 7153,\n 7155,\n 7445,\n 8207,\n 8360,\n 8368,\n 8373,\n 8528,\n 8636,\n 8665,\n 8666,\n 8783,\n 8808,\n 8865,\n 8870,\n 8907,\n 8908,\n 8949,\n 8957,\n 8958,\n 8961,\n 8965,\n 8970,\n 8972,\n 8984,\n 27741,\n 30812,\n 30816,\n 31878,\n 32029,\n 32031,\n 32296,\n 32587,\n 33162,\n 33493,\n 33794,\n 33836,\n 34048,\n 34319,\n 37741,\n 38388,\n 42002,\n 45499,\n 45517,\n 45668,\n 45730,\n 46530,\n 48783,\n 48997,\n 49272,\n 49278,\n 49286,\n 49824,\n 586,\n 187,\n 627,\n 922,\n 1037,\n 1095,\n 1674,\n 1987,\n 2011,\n 2023,\n 2300,\n 2877,\n 2901,\n 3173,\n 3328,\n 3735,\n 4131,\n 4558,\n 5447,\n 5451,\n 5481,\n 5507,\n 5841,\n 5843,\n 5872,\n 5890,\n 5891,\n 5893,\n 5902,\n 5956,\n 5962,\n 5965,\n 5988,\n 6001,\n 6044,\n 1028,\n 1088,\n 1247,\n 1307,\n 3882,\n 4447,\n 5066,\n 5377,\n 5620,\n 5943,\n 5957,\n 6155,\n 6266,\n 6377,\n 6535,\n 6942,\n 7149,\n 7151,\n 7154,\n 7169,\n 7293,\n 7375,\n 7451,\n 7458,\n 8529,\n 8533,\n 8869,\n 8969,\n 30749,\n 31433,\n 31685,\n 33145,\n 33679,\n 40629,\n 40819,\n 41285,\n 47099,\n 51662,\n 51705,\n 51834,\n 54286,\n 56367,\n 56949,\n 58047,\n 59333,\n 59421,\n 60397,\n 60950,\n 61250,\n 63113,\n 63992,\n 64969,\n 66203,\n 68954,\n 69406,\n 69844,\n 70183,\n 70293,\n 71579,\n 72011,\n 72330,\n 72407,\n 72720,\n 72737,\n 72998,\n 73017,\n 74450,\n 77841,\n 78772,\n 79091,\n 80549,\n 81784,\n 81845,\n 81847,\n 82167,\n 82499,\n 84374,\n 86548,\n 87222,\n 88163,\n 88810,\n 91104,\n 92259,\n 94070,\n 95167,\n 95449,\n 95510,\n 95543,\n 96079,\n 97024,\n 97938,\n 98203,\n 103335,\n 103339,\n 104374,\n 105211,\n 106489,\n 106696,\n 107141,\n 109374,\n 109853,\n 112006,\n 113275,\n 113394,\n 119145,\n 129428,\n 136020,\n 137595,\n 140110,\n 44,\n 376,\n 511,\n 529,\n 1100,\n 1358,\n 1370,\n 1385,\n 1438,\n 1518,\n 1586,\n 1604,\n 1608,\n 1616,\n 1687,\n 1693,\n 1721,\n 1840,\n 1882,\n 1918,\n 2002,\n 2027,\n 1357,\n 1405,\n 1876,\n 2072,\n 2100,\n 2421,\n 2485,\n ...]"
     },
     "execution_count": 3,
     "metadata": {},
     "output_type": "execute_result"
    }
   ],
   "source": [
    "movies"
   ],
   "metadata": {
    "collapsed": false
   }
  },
  {
   "cell_type": "code",
   "execution_count": 4,
   "metadata": {},
   "outputs": [
    {
     "data": {
      "text/plain": "                                             title  \\\nmovieId                                              \n1                                 Toy Story (1995)   \n2                                   Jumanji (1995)   \n3                          Grumpier Old Men (1995)   \n4                         Waiting to Exhale (1995)   \n5               Father of the Bride Part II (1995)   \n...                                            ...   \n193581   Black Butler: Book of the Atlantic (2017)   \n193583                No Game No Life: Zero (2017)   \n193585                                Flint (2017)   \n193587         Bungo Stray Dogs: Dead Apple (2018)   \n193609         Andrew Dice Clay: Dice Rules (1991)   \n\n                                              genres  \nmovieId                                               \n1        Adventure|Animation|Children|Comedy|Fantasy  \n2                         Adventure|Children|Fantasy  \n3                                     Comedy|Romance  \n4                               Comedy|Drama|Romance  \n5                                             Comedy  \n...                                              ...  \n193581               Action|Animation|Comedy|Fantasy  \n193583                      Animation|Comedy|Fantasy  \n193585                                         Drama  \n193587                              Action|Animation  \n193609                                        Comedy  \n\n[9742 rows x 2 columns]",
      "text/html": "<div>\n<style scoped>\n    .dataframe tbody tr th:only-of-type {\n        vertical-align: middle;\n    }\n\n    .dataframe tbody tr th {\n        vertical-align: top;\n    }\n\n    .dataframe thead th {\n        text-align: right;\n    }\n</style>\n<table border=\"1\" class=\"dataframe\">\n  <thead>\n    <tr style=\"text-align: right;\">\n      <th></th>\n      <th>title</th>\n      <th>genres</th>\n    </tr>\n    <tr>\n      <th>movieId</th>\n      <th></th>\n      <th></th>\n    </tr>\n  </thead>\n  <tbody>\n    <tr>\n      <th>1</th>\n      <td>Toy Story (1995)</td>\n      <td>Adventure|Animation|Children|Comedy|Fantasy</td>\n    </tr>\n    <tr>\n      <th>2</th>\n      <td>Jumanji (1995)</td>\n      <td>Adventure|Children|Fantasy</td>\n    </tr>\n    <tr>\n      <th>3</th>\n      <td>Grumpier Old Men (1995)</td>\n      <td>Comedy|Romance</td>\n    </tr>\n    <tr>\n      <th>4</th>\n      <td>Waiting to Exhale (1995)</td>\n      <td>Comedy|Drama|Romance</td>\n    </tr>\n    <tr>\n      <th>5</th>\n      <td>Father of the Bride Part II (1995)</td>\n      <td>Comedy</td>\n    </tr>\n    <tr>\n      <th>...</th>\n      <td>...</td>\n      <td>...</td>\n    </tr>\n    <tr>\n      <th>193581</th>\n      <td>Black Butler: Book of the Atlantic (2017)</td>\n      <td>Action|Animation|Comedy|Fantasy</td>\n    </tr>\n    <tr>\n      <th>193583</th>\n      <td>No Game No Life: Zero (2017)</td>\n      <td>Animation|Comedy|Fantasy</td>\n    </tr>\n    <tr>\n      <th>193585</th>\n      <td>Flint (2017)</td>\n      <td>Drama</td>\n    </tr>\n    <tr>\n      <th>193587</th>\n      <td>Bungo Stray Dogs: Dead Apple (2018)</td>\n      <td>Action|Animation</td>\n    </tr>\n    <tr>\n      <th>193609</th>\n      <td>Andrew Dice Clay: Dice Rules (1991)</td>\n      <td>Comedy</td>\n    </tr>\n  </tbody>\n</table>\n<p>9742 rows × 2 columns</p>\n</div>"
     },
     "execution_count": 4,
     "metadata": {},
     "output_type": "execute_result"
    }
   ],
   "source": [
    "# wczytujemy nazwy filmow i kategorie\n",
    "\n",
    "movies_metadata = pandas.read_csv('../ml-latest-small/movies.csv').set_index('movieId')\n",
    "movies_metadata"
   ]
  },
  {
   "cell_type": "code",
   "execution_count": 5,
   "metadata": {},
   "outputs": [
    {
     "data": {
      "text/plain": "[[217, 478, 495, 560, 216],\n [60, 477, 12, 446, 482],\n [420, 218, 589, 7, 539],\n [522, 578, 563, 204, 360],\n [542, 557, 313, 4, 406],\n [127, 61, 505, 417, 566],\n [290, 401, 575, 266, 256],\n [494, 557, 534, 199, 538],\n [469, 375, 563, 540, 321],\n [97, 164, 208, 601, 327],\n [233, 197, 196, 251, 520],\n [559, 181, 136, 56, 291],\n [149, 23, 255, 314, 36],\n [354, 87, 101, 334, 378],\n [313, 412, 42, 238, 6],\n [203, 544, 366, 426, 188],\n [374, 174, 19, 317, 181],\n [423, 392, 589, 128, 585],\n [105, 572, 407, 149, 476],\n [352, 588, 385, 369, 268],\n [309, 349, 418, 195, 112],\n [185, 365, 174, 510, 210],\n [46, 117, 331, 378, 292],\n [362, 328, 601, 43, 98],\n [595, 282, 35, 157, 34],\n [3, 217, 14, 269, 446],\n [169, 66, 556, 561, 153],\n [98, 48, 498, 61, 194],\n [295, 310, 333, 182, 495],\n [320, 275, 485, 15, 143],\n [265, 275, 219, 217, 413],\n [536, 248, 567, 468, 398],\n [449, 151, 562, 68, 474],\n [135, 257, 301, 490, 246],\n [260, 288, 558, 291, 522],\n [256, 127, 219, 267, 348],\n [30, 63, 589, 263, 306],\n [331, 568, 210, 132, 428],\n [204, 290, 601, 71, 544],\n [283, 552, 510, 363, 298],\n [251, 154, 521, 580, 608],\n [212, 381, 547, 487, 103],\n [178, 331, 379, 21, 312],\n [363, 335, 235, 217, 348],\n [431, 184, 155, 252, 27],\n [34, 189, 438, 481, 134],\n [370, 265, 274, 383, 409],\n [465, 85, 9, 579, 182],\n [96, 493, 518, 549, 375],\n [364, 155, 11, 72, 235]]"
     },
     "execution_count": 5,
     "metadata": {},
     "output_type": "execute_result"
    }
   ],
   "source": [
    "# definiujemy testowe grupy uzytkownikow, dla ktorych bedziemy generowac rekomendacje\n",
    "\n",
    "groups_no = 50\n",
    "group_size = 5\n",
    "groups = [sample(users, group_size) for i in range(groups_no)]\n",
    "groups"
   ]
  },
  {
   "cell_type": "code",
   "execution_count": 6,
   "metadata": {},
   "outputs": [
    {
     "name": "stdout",
     "output_type": "stream",
     "text": [
      "\n",
      "\n",
      "User ids: [60, 477, 12, 446, 482]\n",
      "\n",
      "Mean ratings deviation: 3.8770500141539115\n",
      "Median ratings deviation: 3.9749213828703582\n",
      "Standard deviation of ratings deviation: 0.8233099037052277\n",
      "\n",
      "Best movies:\n",
      "It Runs in the Family (2003), 9.2*\n",
      "Mansfield Park (1999), 9.2*\n",
      "Josie and the Pussycats (2001), 9.2*\n",
      "8MM (1999), 9.0*\n",
      "Big Stan (2007), 9.0*\n",
      "Some Mother's Son (1996), 8.8*\n",
      "The Golden Voyage of Sinbad (1973), 8.8*\n",
      "Anne of the Thousand Days (1969), 8.8*\n",
      "Paper Chase, The (1973), 8.6*\n",
      "Legally Blonde (2001), 8.6*\n",
      "\n",
      "Worst movies:\n",
      "Lions For Lambs (2007), 2.2*\n",
      "Davy Crockett, King of the Wild Frontier (1955), 2.4*\n",
      "Newsies (1992), 2.4*\n",
      "Northmen - A Viking Saga (2014), 2.4*\n",
      "Halloween 5: The Revenge of Michael Myers (1989), 2.6*\n",
      "Girl with a Pearl Earring (2003), 2.6*\n",
      "Above the Rim (1994), 2.6*\n",
      "Men in Black III (M.III.B.) (M.I.B.³) (2012), 2.6*\n",
      "Canadian Bacon (1995), 2.6*\n",
      "Miracle (2004), 2.6*\n"
     ]
    }
   ],
   "source": [
    "# przygotowujemy funkcje pomocnicza\n",
    "\n",
    "def describe_group(group, N=10):\n",
    "    print(f'\\n\\nUser ids: {group}')\n",
    "    group_size = len(group)\n",
    "\n",
    "    mean_stdev = ratings.iloc[group].std(axis=0).mean()\n",
    "    median_stdev = ratings.iloc[group].std(axis=0).median()\n",
    "    std_stdev = ratings.iloc[group].std(axis=0).std()\n",
    "    print(f'\\nMean ratings deviation: {mean_stdev}')\n",
    "    print(f'Median ratings deviation: {median_stdev}')\n",
    "    print(f'Standard deviation of ratings deviation: {std_stdev}')\n",
    "\n",
    "    average_scores = ratings.iloc[group].mean(axis=0)\n",
    "    average_scores = average_scores.sort_values()\n",
    "    best_movies = [(movies_metadata['title'][movie_id], average_scores[movie_id]) for movie_id in\n",
    "                   list(average_scores[-N:].index)]\n",
    "    worst_movies = [(movies_metadata['title'][movie_id], average_scores[movie_id]) for movie_id in\n",
    "                    list(average_scores[:N].index)]\n",
    "\n",
    "    print('\\nBest movies:')\n",
    "    for movie, score in best_movies[::-1]:\n",
    "        print(f'{movie}, {score}*')\n",
    "    print('\\nWorst movies:')\n",
    "    for movie, score in worst_movies:\n",
    "        print(f'{movie}, {score}*')\n",
    "\n",
    "\n",
    "describe_group(groups[1])"
   ]
  },
  {
   "cell_type": "code",
   "execution_count": 7,
   "metadata": {},
   "outputs": [
    {
     "data": {
      "text/plain": "['a', 'b']"
     },
     "execution_count": 7,
     "metadata": {},
     "output_type": "execute_result"
    }
   ],
   "source": [
    "'a   b'.split()"
   ]
  },
  {
   "cell_type": "markdown",
   "metadata": {},
   "source": [
    "## Część 2. - algorytmy proste"
   ]
  },
  {
   "cell_type": "code",
   "execution_count": 8,
   "metadata": {},
   "outputs": [],
   "source": [
    "# zdefiniujmy interfejs dla wszystkich algorytmow rekomendacyjnych\n",
    "\n",
    "class Recommender:\n",
    "    def recommend(self, movies, ratings, group, size):\n",
    "        pass\n",
    "\n",
    "\n",
    "# jako pierwszy zaimplementujemy algorytm losowy - dla porownania\n",
    "\n",
    "class RandomRecommender(Recommender):\n",
    "    def __init__(self):\n",
    "        self.name = 'random'\n",
    "\n",
    "    def recommend(self, movies, ratings, group, size):\n",
    "        return sample(movies, size)"
   ]
  },
  {
   "cell_type": "code",
   "execution_count": 9,
   "metadata": {},
   "outputs": [],
   "source": [
    "# algorytm rekomendujacy filmy o najwyzszej sredniej ocen\n",
    "\n",
    "class AverageRecommender(Recommender):\n",
    "    def __init__(self):\n",
    "        self.name = 'average'\n",
    "\n",
    "    def recommend(self, movies, ratings, group, size):\n",
    "        group_ratings = ratings.filter(items=group, axis=0)\n",
    "        return list(group_ratings.mean().sort_values(ascending=False).iloc[:size].index)"
   ]
  },
  {
   "cell_type": "code",
   "execution_count": 10,
   "metadata": {},
   "outputs": [],
   "source": [
    "# algorytm rekomendujacy filmy o najwyzszej sredniej ocen,\n",
    "#   ale rownoczesnie wykluczajacy te filmy, ktore otrzymaly choc jedna ocene ponizej thresholdu\n",
    "\n",
    "class AverageWithoutMiseryRecommender(Recommender):\n",
    "    def __init__(self, score_threshold):\n",
    "        self.name = 'average_without_misery'\n",
    "        self.score_threshold = score_threshold\n",
    "\n",
    "    def recommend(self, movies, ratings, group, size):\n",
    "        group_ratings = ratings.filter(items=group, axis=0)\n",
    "        excluded_movies_filter = group_ratings < self.score_threshold\n",
    "        included_movies_filter = excluded_movies_filter.sum() == 0\n",
    "        included_movies = included_movies_filter[included_movies_filter].index\n",
    "        ratings_included_movies = ratings[included_movies]\n",
    "        return list(ratings_included_movies.mean().sort_values(ascending=False).iloc[:size].index)"
   ]
  },
  {
   "cell_type": "code",
   "execution_count": 11,
   "metadata": {},
   "outputs": [],
   "source": [
    "# algorytm uwzgledniajacy preferencje tylko jednego uzytkownika w kazdej iteracji\n",
    "\n",
    "class FairnessRecommender(Recommender):\n",
    "    def __init__(self):\n",
    "        self.name = 'fairness'\n",
    "\n",
    "    def recommend(self, movies, ratings, group, size):\n",
    "        selected_movies = set()\n",
    "        best_users_movies = [ratings.loc[user].sort_values(ascending=False) for user in group]\n",
    "        round = -1\n",
    "        step = 0\n",
    "        while len(selected_movies) < size:\n",
    "            user_id = step % len(group)\n",
    "            if user_id == 0:\n",
    "                round += 1\n",
    "            movie = best_users_movies[user_id].index[round]\n",
    "            if movie not in selected_movies:\n",
    "                selected_movies.add(movie)\n",
    "            step += 1\n",
    "        return list(selected_movies)"
   ]
  },
  {
   "cell_type": "code",
   "execution_count": 12,
   "metadata": {},
   "outputs": [],
   "source": [
    "# wybrany algorytm wyborczy\n",
    "\n",
    "class VotingRecommender(Recommender):\n",
    "    def __init__(self, treshold):\n",
    "        self.name = \"simple voting\"  # nazwa wybranego algorytmu\n",
    "        self.score_threshold = treshold\n",
    "\n",
    "    def recommend(self, movies, ratings, group, size):\n",
    "        group_ratings = ratings.filter(items=group, axis=0)\n",
    "        group_ratings = group_ratings > self.score_threshold\n",
    "        return list(group_ratings.sum().sort_values(ascending=False).iloc[:size].index)"
   ]
  },
  {
   "cell_type": "code",
   "execution_count": 13,
   "metadata": {},
   "outputs": [],
   "source": [
    "# algorytm zachlanny, aproksymujacy metode Proportional Approval Voting\n",
    "#   w kazdej iteracji wybieramy ten film, ktory najbardziej zwieksza zadowolenie zgodnie z punktacja PAV\n",
    "\n",
    "class PAVRecommender(Recommender):\n",
    "    def __init__(self, threshold):\n",
    "        self.threshold = threshold\n",
    "        self.name = 'PAV'\n",
    "\n",
    "    def recommend(self, movies, ratings, group, size):\n",
    "        group_ratings = ratings.filter(items=group, axis=0)\n",
    "        group_ratings = group_ratings > self.threshold\n",
    "        group_ratings = group_ratings.astype(\"float\")\n",
    "        recommender_weight_divisor = {user_id: 1 for user_id in group}\n",
    "        selected_movies = set()\n",
    "        for i in range(size):\n",
    "            new_movie = group_ratings.sum().idxmax()\n",
    "            recommenders = group_ratings[new_movie] > 0\n",
    "            recommenders = list(recommenders[recommenders].index)\n",
    "\n",
    "            group_ratings[new_movie] = 0.0\n",
    "            for recommender in recommenders:\n",
    "                group_ratings.loc[recommender] = group_ratings.loc[recommender] * recommender_weight_divisor[\n",
    "                    recommender] / (recommender_weight_divisor[recommender] + 1)\n",
    "                recommender_weight_divisor[recommender] += 1\n",
    "\n",
    "            selected_movies.add(new_movie)\n",
    "        return list(selected_movies)\n"
   ]
  },
  {
   "cell_type": "markdown",
   "metadata": {},
   "source": [
    "## Część 3. - funkcje celu"
   ]
  },
  {
   "cell_type": "code",
   "execution_count": 14,
   "metadata": {},
   "outputs": [],
   "source": [
    "# dwie funkcje pomocnicze:\n",
    "#  - znajdujaca ulubione filmy danego uzytkownika\n",
    "#  - obliczajaca sume ocen wystawionych przez uzytkownika wszystkim filmom w rekomendacji\n",
    "\n",
    "def top_n_movies_for_user(ratings, movies, user_id, n):\n",
    "    return ratings.loc[user_id].sort_values(ascending=False).iloc[:n].index\n",
    "\n",
    "\n",
    "def total_score(recommendation, user_id, ratings):\n",
    "    return ratings.loc[user_id][recommendation].sum()"
   ]
  },
  {
   "cell_type": "code",
   "execution_count": 15,
   "metadata": {},
   "outputs": [],
   "source": [
    "# funkcja obliczajaca zadowolenie pojedynczego uzytkownika\n",
    "#  - iloraz zadowolenia z wygenerowanej rekomendacji oraz zadowolenia z hipotetycznej rekomendacji idealnej\n",
    "def overall_user_satisfaction(recommendation, user_id, movies, ratings):\n",
    "    group_list_sat = total_score(recommendation, user_id, ratings)\n",
    "    user_list_sat = total_score(list(top_n_movies_for_user(ratings, movies, user_id, len(recommendation))), user_id,\n",
    "                                ratings)\n",
    "    return group_list_sat / user_list_sat\n",
    "\n",
    "\n",
    "# funkcja celu - srednia z zadowolenia wszystkich uzytkownikow w grupie\n",
    "def overall_group_satisfaction(recommendation, group, movies, ratings):\n",
    "    return 1.0 * sum([overall_user_satisfaction(recommendation, user_id, movies, ratings) for user_id in group]) / len(\n",
    "        group)\n",
    "\n",
    "\n",
    "# funkcja celu - roznica miedzy maksymalnym i minimalnym zadowolenie w grupie\n",
    "def group_disagreement(recommendation, group, movies, ratings):\n",
    "    sat_scores = [overall_user_satisfaction(recommendation, user_id, movies, ratings) for user_id in group]\n",
    "    return max(sat_scores) - min(sat_scores)"
   ]
  },
  {
   "cell_type": "markdown",
   "metadata": {},
   "source": [
    "## Część 4. - Sequential Hybrid Aggregation"
   ]
  },
  {
   "cell_type": "code",
   "execution_count": 16,
   "metadata": {},
   "outputs": [],
   "source": [
    "# algorytm balansujacy pomiedzy wyborem elementow o najwyzszej sredniej ocen\n",
    "#   i o najwyzszej minimalnej ocenie\n",
    "#   wyliczajacy w kazdej iteracji parametr alfa - jak na wykladzie\n",
    "class SequentialHybridAggregationRecommender(Recommender):\n",
    "    def __init__(self):\n",
    "        self.name = 'sequential_hybrid_aggregation'\n",
    "\n",
    "    def recommend(self, movies, ratings, group, size):\n",
    "        selected_movies = set()\n",
    "        group_ratings = ratings.filter(items=group, axis=0)\n",
    "        alpha = 0.5\n",
    "        avg_scores = group_ratings.mean()\n",
    "        least_scores = ratings.min()\n",
    "        for i in range(size):\n",
    "            scores = (1 - alpha) * avg_scores + alpha * least_scores\n",
    "            new_movie = scores.idxmax()\n",
    "            selected_movies.add(new_movie)\n",
    "            avg_scores[new_movie] = 0\n",
    "            least_scores[new_movie] = 0\n",
    "            alpha = group_disagreement([movies[i - 1]], group, movies, ratings)\n",
    "        return list(selected_movies)\n",
    "\n"
   ]
  },
  {
   "cell_type": "markdown",
   "metadata": {},
   "source": [
    "## Część 5. - porównanie algorytmów"
   ]
  },
  {
   "cell_type": "code",
   "execution_count": 18,
   "metadata": {
    "scrolled": true
   },
   "outputs": [
    {
     "name": "stdout",
     "output_type": "stream",
     "text": [
      "recommender                      satisfaction-mean    satisfaction-std    disagreement-mean    disagreement-mean\n",
      "-----------------------------  -------------------  ------------------  -------------------  -------------------\n",
      "random                                    0.56108            0.0546547             0.2692              0.105072\n",
      "average                                   0.98784            0.0203313             0.0222              0.0340042\n",
      "average_without_misery                    0.80412            0.0413909             0.223               0.0750306\n",
      "fairness                                  0.64748            0.0516405             0.2478              0.0852437\n",
      "simple voting                             0.86764            0.0269442             0.1228              0.0533008\n",
      "PAV                                       0.86816            0.0256056             0.1184              0.0468763\n",
      "sequential_hybrid_aggregation             0.927984           0.0322147             0.131625            0.0654803\n"
     ]
    }
   ],
   "source": [
    "recommenders = [\n",
    "    RandomRecommender(),\n",
    "    AverageRecommender(),\n",
    "    AverageWithoutMiseryRecommender(5),\n",
    "    FairnessRecommender(),\n",
    "    VotingRecommender(5),\n",
    "    PAVRecommender(5),\n",
    "    SequentialHybridAggregationRecommender()\n",
    "]\n",
    "\n",
    "recommendation_size = 10\n",
    "\n",
    "# dla kazdego algorytmu:\n",
    "#  - wygenerujmy jedna rekomendacje dla kazdej grupy\n",
    "#  - obliczmy wartosci funkcji celu dla kazdej rekomendacji\n",
    "#  - obliczmy srednia i odchylenie standardowe wartosci funkcji celu\n",
    "#  - wypiszmy wyniki na konsole\n",
    "\n",
    "table = []\n",
    "for recommender in recommenders:\n",
    "    satisfactions = []\n",
    "    disagreements = []\n",
    "    for group in groups:\n",
    "        recommendation = recommender.recommend(movies, ratings, group, recommendation_size)\n",
    "        satisfactions.append(overall_group_satisfaction(recommendation, group, movies, ratings))\n",
    "        disagreements.append(group_disagreement(recommendation, group, movies, ratings))\n",
    "    table.append(\n",
    "        [recommender.name, mean(satisfactions), stdev(satisfactions), mean(disagreements), stdev(disagreements)])\n",
    "print(tabulate(table, headers=[\"recommender\", \"satisfaction-mean\", \"satisfaction-std\", \"disagreement-mean\",\n",
    "                               \"disagreement-mean\"]))"
   ]
  },
  {
   "cell_type": "code",
   "execution_count": null,
   "outputs": [],
   "source": [],
   "metadata": {
    "collapsed": false
   }
  }
 ],
 "metadata": {
  "kernelspec": {
   "display_name": "Python 3",
   "language": "python",
   "name": "python3"
  },
  "language_info": {
   "codemirror_mode": {
    "name": "ipython",
    "version": 3
   },
   "file_extension": ".py",
   "mimetype": "text/x-python",
   "name": "python",
   "nbconvert_exporter": "python",
   "pygments_lexer": "ipython3",
   "version": "3.7.3"
  }
 },
 "nbformat": 4,
 "nbformat_minor": 4
}
